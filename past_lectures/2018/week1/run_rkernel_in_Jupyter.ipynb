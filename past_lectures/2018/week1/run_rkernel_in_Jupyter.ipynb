{
 "cells": [
  {
   "cell_type": "code",
   "execution_count": null,
   "metadata": {},
   "outputs": [],
   "source": [
    "# Load data from a file \n",
    "# Features are computed from a digitized image of a fine needle aspirate (FNA) of a breast mass. \n",
    "# They describe characteristics of the cell nuclei present in the image. \n",
    "url <-\"http://archive.ics.uci.edu/ml/machine-learning-databases/pima-indians-diabetes/pima-indians-diabetes.data\"\n",
    "pima <- read.table( url, sep=\",\")\n",
    "colnames( pima ) <- c(\"pregnancy\", \"gtt\", \"dbp\", \"skinthickness\", \"insulin\", \"bmi\", \"familyhistory\", \"age\", \"diabetes\")\n",
    "head( pima )\n",
    "dim( pima )\n",
    "table( pima$diabetes )"
   ]
  },
  {
   "cell_type": "code",
   "execution_count": null,
   "metadata": {},
   "outputs": [],
   "source": [
    "# Box plot with added features\n",
    "boxplot( gtt ~ diabetes, \n",
    "         data = pima, \n",
    "         boxwex = 0.3,\n",
    "         col = c(\"orange\", \"royalblue\"),\n",
    "         main = \"Pima Indians Diabetes Study\",\n",
    "         ylab = \"Glucose concentration\", \n",
    "         xlab = \"Diabetes\")# Two group comparison, Diastolic blood pressure (DBP)"
   ]
  },
  {
   "cell_type": "code",
   "execution_count": null,
   "metadata": {},
   "outputs": [],
   "source": [
    "case <- pima$dbp[ pima$diabetes == 1]\n",
    "control <- pima$dbp[ pima$diabetes == 0]\n",
    "t.test( case, control )"
   ]
  },
  {
   "cell_type": "code",
   "execution_count": null,
   "metadata": {
    "collapsed": true
   },
   "outputs": [],
   "source": []
  }
 ],
 "metadata": {
  "kernelspec": {
   "display_name": "R",
   "language": "R",
   "name": "ir"
  },
  "language_info": {
   "codemirror_mode": "r",
   "file_extension": ".r",
   "mimetype": "text/x-r-source",
   "name": "R",
   "pygments_lexer": "r",
   "version": "3.4.3"
  }
 },
 "nbformat": 4,
 "nbformat_minor": 2
}
